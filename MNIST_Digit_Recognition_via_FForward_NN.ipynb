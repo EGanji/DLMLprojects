{
  "nbformat": 4,
  "nbformat_minor": 0,
  "metadata": {
    "colab": {
      "name": "MNIST Digit Recognition via FForward NN.ipynb",
      "provenance": [],
      "collapsed_sections": [
        "KwA8fZt03EU8",
        "_aauSi796WPO",
        "fTcZzIVg9SEr",
        "dvShzJvjCzGG",
        "Mp9r5Yu4CyZO",
        "QTQPmNkuIzPo",
        "SvVehtanMSXF",
        "2OZSYxPLO9qf"
      ],
      "toc_visible": true,
      "authorship_tag": "ABX9TyPNse3gcxfyt3wmHjvvDf2s",
      "include_colab_link": true
    },
    "kernelspec": {
      "name": "python3",
      "display_name": "Python 3"
    },
    "language_info": {
      "name": "python"
    }
  },
  "cells": [
    {
      "cell_type": "markdown",
      "metadata": {
        "id": "view-in-github",
        "colab_type": "text"
      },
      "source": [
        "<a href=\"https://colab.research.google.com/github/EGanji/DLML/blob/main/MNIST_Digit_Recognition_via_FForward_NN.ipynb\" target=\"_parent\"><img src=\"https://colab.research.google.com/assets/colab-badge.svg\" alt=\"Open In Colab\"/></a>"
      ]
    },
    {
      "cell_type": "markdown",
      "source": [
        "# Digit Recognition through FeedForward Neural Network Model\n",
        "* Goal: Build a network and train it to recognize handwritten digits.\n",
        "* Data set: MNIST\n",
        "* Metric: Accuracy\n",
        "\n",
        "#### Outline:\n",
        "0. Install/import required libraries.\n",
        "1. Loading data -> train and test set\n",
        "2. Visualize data, get familiar with data\n",
        "3. Preprocessing -> \n",
        "  * Normalizing data\n",
        "  * Convert Labels into one-hot vectors.\n",
        "4. Building the Model\n",
        "5. Train the Model\n",
        "6. Evaluate the Model's Accuracy\n",
        "7. Inspection output\n",
        "8. Final Notes"
      ],
      "metadata": {
        "id": "hCEvioEd1nUj"
      }
    },
    {
      "cell_type": "markdown",
      "source": [
        "### 0. Install/import required libraries"
      ],
      "metadata": {
        "id": "KwA8fZt03EU8"
      }
    },
    {
      "cell_type": "code",
      "execution_count": 1,
      "metadata": {
        "id": "Rkpx4o-VVHk5"
      },
      "outputs": [],
      "source": [
        "import numpy as np                                        # numerical library for matrix, vector operations\n",
        "import matplotlib.pyplot as plt                           # for plotting and visualizing purpose\n",
        "import random                                             # to generate random numbers\n",
        "\n",
        "from keras.datasets import mnist                          # MNIST dataset\n",
        "from keras.models import Sequential                       # Model type to be used\n",
        "\n",
        "from keras.layers.core import Dense, Dropout, Activation  # Types of layers we need in our model\n",
        "from keras.utils import np_utils                          # NumPy related tools"
      ]
    },
    {
      "cell_type": "markdown",
      "source": [
        "### 1. Loading Dataset\n",
        "The MNIST is a set of (28, 28) digit's image for training and testing purpose.\n",
        "* The dimension of each image is (28, 28).\n",
        "* The number of training data is 60,000.\n",
        "* The number of test data is 10,000."
      ],
      "metadata": {
        "id": "_aauSi796WPO"
      }
    },
    {
      "cell_type": "code",
      "source": [
        "# MNIST is 60k, 10K train and test images with size (28, 28)\n",
        "(X_train, y_train), (X_test, y_test) = mnist.load_data()\n",
        "\n",
        "print(f\"X_train shape, {X_train.shape}\")\n",
        "print(f\"y_train shape, {y_train.shape}\")\n",
        "print(f\"X_test shape, {X_test.shape}\")\n",
        "print(f\"y_test shape, {y_test.shape}\")"
      ],
      "metadata": {
        "colab": {
          "base_uri": "https://localhost:8080/"
        },
        "id": "AS9XwlAo511j",
        "outputId": "6e486dc7-feca-4e7e-b97d-b3076c111ba7"
      },
      "execution_count": 2,
      "outputs": [
        {
          "output_type": "stream",
          "name": "stdout",
          "text": [
            "X_train shape, (60000, 28, 28)\n",
            "y_train shape, (60000,)\n",
            "X_test shape, (10000, 28, 28)\n",
            "y_test shape, (10000,)\n"
          ]
        }
      ]
    },
    {
      "cell_type": "markdown",
      "source": [
        "### 2. Visualize data, get familiar with data\n",
        "* plot some random number of digits from training set.\n",
        "* label each subplot with the corresponding label."
      ],
      "metadata": {
        "id": "fTcZzIVg9SEr"
      }
    },
    {
      "cell_type": "code",
      "source": [
        "n_samples = 10\n",
        "plt.rcParams['figure.figsize'] = (n_samples,3) # Make the figures a bit bigger\n",
        "\n",
        "for i in range(n_samples):\n",
        "    plt.subplot(1, n_samples, i+1)\n",
        "    num = random.randint(0, len(X_train))\n",
        "    plt.imshow(X_train[num], cmap='gray', interpolation='none')\n",
        "    plt.title(f\"Class {y_train[num]}\")\n",
        "    plt.axis(\"off\")\n",
        "plt.tight_layout()"
      ],
      "metadata": {
        "colab": {
          "base_uri": "https://localhost:8080/",
          "height": 107
        },
        "id": "x0Azv4i171js",
        "outputId": "0986fb80-dfbe-4b17-cdb3-40f3acfde680"
      },
      "execution_count": 3,
      "outputs": [
        {
          "output_type": "display_data",
          "data": {
            "text/plain": [
              "<Figure size 720x216 with 10 Axes>"
            ],
            "image/png": "[encoded data removed]"
          },
          "metadata": {
            "needs_background": "light"
          }
        }
      ]
    },
    {
      "cell_type": "markdown",
      "source": [
        "Let us have a closer look to each digit. To present a digit, you can eaither use\n",
        "* Your own function\n",
        "* or `plt.spy()` since most of the bits are zero."
      ],
      "metadata": {
        "id": "wXeP9rGuB83i"
      }
    },
    {
      "cell_type": "code",
      "source": [
        "# printing digit in a matrix shape\n",
        "def matprint(mat, fmt=\"g\"):\n",
        "    col_maxes = [max([len((\"{:\"+fmt+\"}\").format(x)) for x in col]) for col in mat.T]\n",
        "    for x in mat:\n",
        "        for i, y in enumerate(x):\n",
        "            print((\"{:\"+str(col_maxes[i])+fmt+\"}\").format(y), end=\"  \")\n",
        "        print(\"\")\n",
        "\n",
        "# now print random selected digit!        \n",
        "matprint(X_train[num])"
      ],
      "metadata": {
        "colab": {
          "base_uri": "https://localhost:8080/"
        },
        "id": "jSxw5aZW97FF",
        "outputId": "9ee948c6-a885-46cc-f172-de36add7f455"
      },
      "execution_count": 4,
      "outputs": [
        {
          "output_type": "stream",
          "name": "stdout",
          "text": [
            "0  0  0    0    0    0    0    0    0    0    0    0    0    0    0    0    0    0    0    0    0    0    0  0  0  0  0  0  \n",
            "0  0  0    0    0    0    0    0    0    0    0    0    0    0    0    0    0    0    0    0    0    0    0  0  0  0  0  0  \n",
            "0  0  0    0    0    0    0    0    0    0    0    0    0    0    0    0    0    0    0    0    0    0    0  0  0  0  0  0  \n",
            "0  0  0    0    0    0    0    0    0    0    0    0    0    0   21   51   51  152  152   62    0    0    0  0  0  0  0  0  \n",
            "0  0  0    0    0    0    0    0    0    0    0    0    0  123  223  253  252  253  252  223   81    0    0  0  0  0  0  0  \n",
            "0  0  0    0    0    0    0    0    0    0    0    0   21  214  253  254  253  183  102  234  253  123    0  0  0  0  0  0  \n",
            "0  0  0    0    0    0    0    0    0    0    0    0  183  253  252  233  111    0    0  112  252  203    0  0  0  0  0  0  \n",
            "0  0  0    0    0    0    0    0    0    0    0    0  203  254  233  123    0    0    0    0  203  203    0  0  0  0  0  0  \n",
            "0  0  0    0    0    0    0    0    0    0    0    0  203  192   50    0    0    0    0    0  203  203    0  0  0  0  0  0  \n",
            "0  0  0    0    0    0    0    0    0    0    0    0    0    0    0    0    0    0    0   31  233  203    0  0  0  0  0  0  \n",
            "0  0  0    0    0    0    0    0    0    0    0    0    0    0    0    0    0    0    0  213  252   40    0  0  0  0  0  0  \n",
            "0  0  0    0    0    0    0    0    0    0    0    0    0    0    0    0    0    0    0  214  192    0    0  0  0  0  0  0  \n",
            "0  0  0    0    0    0    0    0    0    0    0    0    0    0    0    0    0    0  123  253  111    0    0  0  0  0  0  0  \n",
            "0  0  0    0    0    0    0    0    0    0    0    0    0    0    0    0    0  132  253  203   20    0    0  0  0  0  0  0  \n",
            "0  0  0    0    0    0    0    0    0    0    0    0    0   62  102  102  102  253  252   20    0    0    0  0  0  0  0  0  \n",
            "0  0  0    0    0    0    0   51  132  193  233  254  253  254  253  254  253  254  253   92   31    0    0  0  0  0  0  0  \n",
            "0  0  0    0   41  123  203  253  252  253  252  253  252  253  252  253  252  253  252  253  232    0    0  0  0  0  0  0  \n",
            "0  0  0    0  163  254  253  224  122  113  152  254  253  254  253  142  142  214  253  254  253  173   31  0  0  0  0  0  \n",
            "0  0  0   41  243  253  130   20   82  173  252  253  252  233  111    0    0   10   50  172  252  253  151  0  0  0  0  0  \n",
            "0  0  0  152  253  254  172  214  253  254  253  224  122    0    0    0    0    0    0    0  183  255  253  0  0  0  0  0  \n",
            "0  0  0  233  252  253  252  253  252  233  111   20    0    0    0    0    0    0    0    0  102  253  252  0  0  0  0  0  \n",
            "0  0  0  193  253  224  203  142   61    0    0    0    0    0    0    0    0    0    0    0  102  255  253  0  0  0  0  0  \n",
            "0  0  0   30   50   20    0    0    0    0    0    0    0    0    0    0    0    0    0    0   20  151  111  0  0  0  0  0  \n",
            "0  0  0    0    0    0    0    0    0    0    0    0    0    0    0    0    0    0    0    0    0    0    0  0  0  0  0  0  \n",
            "0  0  0    0    0    0    0    0    0    0    0    0    0    0    0    0    0    0    0    0    0    0    0  0  0  0  0  0  \n",
            "0  0  0    0    0    0    0    0    0    0    0    0    0    0    0    0    0    0    0    0    0    0    0  0  0  0  0  0  \n",
            "0  0  0    0    0    0    0    0    0    0    0    0    0    0    0    0    0    0    0    0    0    0    0  0  0  0  0  0  \n",
            "0  0  0    0    0    0    0    0    0    0    0    0    0    0    0    0    0    0    0    0    0    0    0  0  0  0  0  0  \n"
          ]
        }
      ]
    },
    {
      "cell_type": "code",
      "source": [
        "plt.spy(X_train[num]);"
      ],
      "metadata": {
        "colab": {
          "base_uri": "https://localhost:8080/",
          "height": 214
        },
        "id": "LRVLT90p-JlO",
        "outputId": "02771996-11db-4bbc-c0d6-c357b592e765"
      },
      "execution_count": 5,
      "outputs": [
        {
          "output_type": "display_data",
          "data": {
            "text/plain": [
              "<Figure size 720x216 with 1 Axes>"
            ],
            "image/png": "[encoded data removed]"
          },
          "metadata": {
            "needs_background": "light"
          }
        }
      ]
    },
    {
      "cell_type": "markdown",
      "source": [
        "## 3. Preprocessing step\n",
        "* Flat each image shape into column vector.\n",
        "* Normalize each vector (z-score)"
      ],
      "metadata": {
        "id": "dvShzJvjCzGG"
      }
    },
    {
      "cell_type": "code",
      "source": [
        "# Flatten data points i.e., (n, 28, 28) -> (n, 784)\n",
        "X_train = X_train.reshape(60000, 784)\n",
        "X_test = X_test.reshape(10000, 784)\n",
        "\n",
        "# change the integer type into floating point\n",
        "X_train = X_train.astype('float32')\n",
        "X_test = X_test.astype('float32')\n",
        "\n",
        "# normalize each vector (z-score)\n",
        "X_train /= 255\n",
        "X_test /= 255\n",
        "\n",
        "print(\"Training matrix shape\", X_train.shape)\n",
        "print(\"Testing matrix shape\", X_test.shape)"
      ],
      "metadata": {
        "colab": {
          "base_uri": "https://localhost:8080/"
        },
        "id": "Zc-hOTqd-Lfe",
        "outputId": "48028ef1-67fc-4435-b669-504632dddf69"
      },
      "execution_count": 6,
      "outputs": [
        {
          "output_type": "stream",
          "name": "stdout",
          "text": [
            "Training matrix shape (60000, 784)\n",
            "Testing matrix shape (10000, 784)\n"
          ]
        }
      ]
    },
    {
      "cell_type": "markdown",
      "source": [
        "* Convert label to one-hot vector"
      ],
      "metadata": {
        "id": "GUL2x1KRE7MA"
      }
    },
    {
      "cell_type": "code",
      "source": [
        "n_classes = 10 # number of unique digits\n",
        "\n",
        "Y_train = np_utils.to_categorical(y_train, n_classes)\n",
        "Y_test = np_utils.to_categorical(y_test, n_classes)"
      ],
      "metadata": {
        "id": "gIO9ckGGD3Ja"
      },
      "execution_count": 7,
      "outputs": []
    },
    {
      "cell_type": "markdown",
      "source": [
        "## 4. Building a Feed Forward Model\n",
        "\n",
        "Build the model by stacking layers together.\n",
        "1. specifying each layer's input/output,\n",
        "2. activation function,\n",
        "3. add regularization.\n",
        "\n",
        "The architecture of the model is:\n",
        "* Two hidden layer (e.g. 512, 256 nodes)\n",
        "* One class layer of 10 nodes\n",
        "* Connection weights are dense\n",
        "\n",
        "At the end, we can check our model by getting the `model.summary()`"
      ],
      "metadata": {
        "id": "Mp9r5Yu4CyZO"
      }
    },
    {
      "cell_type": "code",
      "source": [
        "# The Sequential model: stack of layers\n",
        "# activation function of each hidden layer is ReLU\n",
        "# add dropout to avoid overfitting. 0.2 means 20% of nodes will be disabled\n",
        "model = Sequential()\n",
        "\n",
        "# First hidden layer\n",
        "model.add(Dense(512, input_shape=(784,)))\n",
        "model.add(Activation('relu'))\n",
        "model.add(Dropout(0.2))\n",
        "\n",
        "# Second hidden layer\n",
        "model.add(Dense(128))\n",
        "model.add(Activation('relu'))\n",
        "model.add(Dropout(0.2))\n",
        "\n",
        "# The last layer\n",
        "model.add(Dense(10))\n",
        "model.add(Activation('softmax'))\n",
        "\n",
        "# Summary\n",
        "model.summary()"
      ],
      "metadata": {
        "colab": {
          "base_uri": "https://localhost:8080/"
        },
        "id": "gnPY8rF0GCGU",
        "outputId": "2ac417a2-a56a-4069-b31c-be9f3d4f9c19"
      },
      "execution_count": 8,
      "outputs": [
        {
          "output_type": "stream",
          "name": "stdout",
          "text": [
            "Model: \"sequential\"\n",
            "_________________________________________________________________\n",
            " Layer (type)                Output Shape              Param #   \n",
            "=================================================================\n",
            " dense (Dense)               (None, 512)               401920    \n",
            "                                                                 \n",
            " activation (Activation)     (None, 512)               0         \n",
            "                                                                 \n",
            " dropout (Dropout)           (None, 512)               0         \n",
            "                                                                 \n",
            " dense_1 (Dense)             (None, 128)               65664     \n",
            "                                                                 \n",
            " activation_1 (Activation)   (None, 128)               0         \n",
            "                                                                 \n",
            " dropout_1 (Dropout)         (None, 128)               0         \n",
            "                                                                 \n",
            " dense_2 (Dense)             (None, 10)                1290      \n",
            "                                                                 \n",
            " activation_2 (Activation)   (None, 10)                0         \n",
            "                                                                 \n",
            "=================================================================\n",
            "Total params: 468,874\n",
            "Trainable params: 468,874\n",
            "Non-trainable params: 0\n",
            "_________________________________________________________________\n"
          ]
        }
      ]
    },
    {
      "cell_type": "markdown",
      "source": [
        "## 5. Training Time\n",
        "In this phase, we should determine our optimzation objective, method, and metric then try to find solve it i.e., fit the data.\n",
        "\n",
        "For this purpose we need to know:\n",
        "\n",
        "* The loss function\n",
        "* Optimizer\n",
        "* Metric\n",
        "\n",
        "On the training time we can change:\n",
        "* Batch size\n",
        "* Number of Epochs"
      ],
      "metadata": {
        "id": "QTQPmNkuIzPo"
      }
    },
    {
      "cell_type": "code",
      "source": [
        "# determine optimization parameter\n",
        "model.compile(loss='categorical_crossentropy', optimizer='adam', metrics=['accuracy'])\n",
        "\n",
        "# fit the model for the training data\n",
        "model.fit(X_train, Y_train,\n",
        "          batch_size=128, epochs=5,\n",
        "          verbose=1)"
      ],
      "metadata": {
        "id": "44rCPeClIzfB",
        "colab": {
          "base_uri": "https://localhost:8080/"
        },
        "outputId": "79d263bd-ab28-4b2e-dc73-ac3379fb4870"
      },
      "execution_count": 9,
      "outputs": [
        {
          "output_type": "stream",
          "name": "stdout",
          "text": [
            "Epoch 1/5\n",
            "469/469 [==============================] - 11s 20ms/step - loss: 0.2886 - accuracy: 0.9138\n",
            "Epoch 2/5\n",
            "469/469 [==============================] - 6s 13ms/step - loss: 0.1161 - accuracy: 0.9649\n",
            "Epoch 3/5\n",
            "469/469 [==============================] - 6s 12ms/step - loss: 0.0829 - accuracy: 0.9743\n",
            "Epoch 4/5\n",
            "469/469 [==============================] - 5s 12ms/step - loss: 0.0625 - accuracy: 0.9806\n",
            "Epoch 5/5\n",
            "469/469 [==============================] - 6s 12ms/step - loss: 0.0522 - accuracy: 0.9835\n"
          ]
        },
        {
          "output_type": "execute_result",
          "data": {
            "text/plain": [
              "<keras.callbacks.History at 0x7ff658142690>"
            ]
          },
          "metadata": {},
          "execution_count": 9
        }
      ]
    },
    {
      "cell_type": "markdown",
      "source": [
        "## 6. Evaluate the Model against the Test data"
      ],
      "metadata": {
        "id": "SvVehtanMSXF"
      }
    },
    {
      "cell_type": "code",
      "source": [
        "# Evaluate the model\n",
        "score = model.evaluate(X_test, Y_test)\n",
        "print('Test score:', score[0])\n",
        "print('Test accuracy:', score[1])"
      ],
      "metadata": {
        "id": "XHXirk3YMRR2",
        "colab": {
          "base_uri": "https://localhost:8080/"
        },
        "outputId": "12e32d38-bcb5-4ea1-c374-c722a7cd461f"
      },
      "execution_count": 10,
      "outputs": [
        {
          "output_type": "stream",
          "name": "stdout",
          "text": [
            "313/313 [==============================] - 1s 4ms/step - loss: 0.0632 - accuracy: 0.9807\n",
            "Test score: 0.06315074115991592\n",
            "Test accuracy: 0.9807000160217285\n"
          ]
        }
      ]
    },
    {
      "cell_type": "markdown",
      "source": [
        "## 7. Investigate Output\n",
        "We can inspect the output by looking rigth and wrong outputs to get some insight."
      ],
      "metadata": {
        "id": "2OZSYxPLO9qf"
      }
    },
    {
      "cell_type": "code",
      "source": [
        "# predict lable for test cases\n",
        "predicted = model.predict(X_test) \n",
        "predicted_classes = np.argmax(predicted,axis=1)\n",
        "\n",
        "# Find out right/wrong indices (TP, FP)\n",
        "correct_indices = np.nonzero(predicted_classes == y_test)[0]\n",
        "\n",
        "incorrect_indices = np.nonzero(predicted_classes != y_test)[0]"
      ],
      "metadata": {
        "id": "Nzzh2ITcPSrB"
      },
      "execution_count": 11,
      "outputs": []
    },
    {
      "cell_type": "code",
      "source": [
        "plt.figure()\n",
        "for i, correct in enumerate(correct_indices[:9]):\n",
        "    plt.subplot(3, 3, i + 1)\n",
        "    plt.imshow(X_test[correct].reshape(28,28), cmap='gray', interpolation='none')\n",
        "    plt.title(f\"Predicted {predicted_classes[correct]}, Class {y_test[correct]}\")\n",
        "    plt.axis(\"off\")\n",
        "plt.tight_layout()\n",
        "    \n",
        "plt.figure()\n",
        "for i, incorrect in enumerate(incorrect_indices[:9]):\n",
        "    plt.subplot(3, 3, i + 1)\n",
        "    plt.imshow(X_test[incorrect].reshape(28,28), cmap='gray', interpolation='none')\n",
        "    plt.title(f\"Predicted {predicted_classes[incorrect]}, Class {y_test[incorrect]}\")\n",
        "    plt.axis(\"off\")\n",
        "plt.tight_layout()"
      ],
      "metadata": {
        "id": "1LhcqX1tQOj0",
        "colab": {
          "base_uri": "https://localhost:8080/",
          "height": 433
        },
        "outputId": "86b58dc1-f5de-4b6c-b0ec-776b421f789f"
      },
      "execution_count": 12,
      "outputs": [
        {
          "output_type": "display_data",
          "data": {
            "text/plain": [
              "<Figure size 720x216 with 9 Axes>"
            ],
            "image/png": "[encoded data removed]"
          },
          "metadata": {
            "needs_background": "light"
          }
        },
        {
          "output_type": "display_data",
          "data": {
            "text/plain": [
              "<Figure size 720x216 with 9 Axes>"
            ],
            "image/png": "[encoded data removed]"
          },
          "metadata": {
            "needs_background": "light"
          }
        }
      ]
    },
    {
      "cell_type": "markdown",
      "source": [
        "## 8. Final Notes\n",
        "\n",
        "As you can see, playing with number of layers, number of neurons in each hidden layer changes the accuracy. However, there is a tradeoff between the number of parameters and the acheived accuracy.\n",
        "\n",
        "It is better to have a spread sheet when you change parameters like\n",
        "* number of hidden layer\n",
        "* number of neurons in each layer\n",
        "* optimizer\n",
        "* regularization - drop out - %\n",
        "* batch size\n",
        "* number of epoch\n",
        "\n",
        "\n",
        "***The end.***"
      ],
      "metadata": {
        "id": "KfE9LmOrVjzR"
      }
    }
  ]
}