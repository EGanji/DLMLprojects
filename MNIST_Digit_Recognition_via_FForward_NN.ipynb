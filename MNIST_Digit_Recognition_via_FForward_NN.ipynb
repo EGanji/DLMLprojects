{
  "nbformat": 4,
  "nbformat_minor": 0,
  "metadata": {
    "colab": {
      "name": "MNIST Digit Recognition via FForward NN.ipynb",
      "provenance": [],
      "collapsed_sections": [
        "KwA8fZt03EU8",
        "_aauSi796WPO",
        "fTcZzIVg9SEr",
        "dvShzJvjCzGG",
        "Mp9r5Yu4CyZO",
        "QTQPmNkuIzPo",
        "SvVehtanMSXF",
        "2OZSYxPLO9qf"
      ],
      "toc_visible": true,
      "authorship_tag": "ABX9TyOUZmEwHLeje8/e4OmFegB8",
      "include_colab_link": true
    },
    "kernelspec": {
      "name": "python3",
      "display_name": "Python 3"
    },
    "language_info": {
      "name": "python"
    }
  },
  "cells": [
    {
      "cell_type": "markdown",
      "metadata": {
        "id": "view-in-github",
        "colab_type": "text"
      },
      "source": [
        "<a href=\"https://colab.research.google.com/github/EGanji/DLML/blob/main/MNIST_Digit_Recognition_via_FForward_NN.ipynb\" target=\"_parent\"><img src=\"https://colab.research.google.com/assets/colab-badge.svg\" alt=\"Open In Colab\"/></a>"
      ]
    },
    {
      "cell_type": "markdown",
      "source": [
        "# Digit Recognition through FeedForward Neural Network Model\n",
        "* Goal: Build a network and train it to recognize handwritten digits.\n",
        "* Data set: MNIST\n",
        "* Metric: Accuracy\n",
        "\n",
        "#### Outline:\n",
        "0. Install/import required libraries.\n",
        "1. Loading data -> train and test set\n",
        "2. Visualize data, get familiar with data\n",
        "3. Preprocessing -> \n",
        "  * Normalizing data\n",
        "  * Convert Labels into one-hot vectors.\n",
        "4. Building the Model\n",
        "5. Train the Model\n",
        "6. Evaluate the Model's Accuracy\n",
        "7. Inspection output\n",
        "8. Final Notes"
      ],
      "metadata": {
        "id": "hCEvioEd1nUj"
      }
    },
    {
      "cell_type": "markdown",
      "source": [
        "### 0. Install/import required libraries"
      ],
      "metadata": {
        "id": "KwA8fZt03EU8"
      }
    },
    {
      "cell_type": "code",
      "execution_count": 90,
      "metadata": {
        "id": "Rkpx4o-VVHk5"
      },
      "outputs": [],
      "source": [
        "import numpy as np                   # numerical library for matrix, vector, ...\n",
        "import matplotlib.pyplot as plt      # for plotting and visualizing purpose\n",
        "import random                        # for generating random numbers\n",
        "\n",
        "from keras.datasets import mnist     # MNIST dataset is included in Keras\n",
        "from keras.models import Sequential  # Model type to be used\n",
        "\n",
        "from keras.layers.core import Dense, Dropout, Activation # Types of layers to be used in our model\n",
        "from keras.utils import np_utils                         # NumPy related tools"
      ]
    },
    {
      "cell_type": "markdown",
      "source": [
        "### 1. Loading Dataset\n",
        "The MNIST is a set of (28, 28) digit's image for training and testing purpose.\n",
        "* The dimension of each image is (28, 28).\n",
        "* The number of training data is 60,000.\n",
        "* The number of test data is 10,000."
      ],
      "metadata": {
        "id": "_aauSi796WPO"
      }
    },
    {
      "cell_type": "code",
      "source": [
        "# MNIST is 60k, 10K train and test images with size (28, 28)\n",
        "(X_train, y_train), (X_test, y_test) = mnist.load_data()\n",
        "\n",
        "print(\"X_train shape\", X_train.shape)\n",
        "print(\"y_train shape\", y_train.shape)\n",
        "print(\"X_test shape\", X_test.shape)\n",
        "print(\"y_test shape\", y_test.shape)"
      ],
      "metadata": {
        "colab": {
          "base_uri": "https://localhost:8080/"
        },
        "id": "AS9XwlAo511j",
        "outputId": "f4ce2444-81f2-4c73-a10d-ab24221a890f"
      },
      "execution_count": 91,
      "outputs": [
        {
          "output_type": "stream",
          "name": "stdout",
          "text": [
            "X_train shape (60000, 28, 28)\n",
            "y_train shape (60000,)\n",
            "X_test shape (10000, 28, 28)\n",
            "y_test shape (10000,)\n"
          ]
        }
      ]
    },
    {
      "cell_type": "markdown",
      "source": [
        "### 2. Visualize data, get familiar with data\n",
        "* plot some random number of digits from training set.\n",
        "* label each subplot with the corresponding label."
      ],
      "metadata": {
        "id": "fTcZzIVg9SEr"
      }
    },
    {
      "cell_type": "code",
      "source": [
        "n_samples = 10\n",
        "plt.rcParams['figure.figsize'] = (n_samples,3) # Make the figures a bit bigger\n",
        "\n",
        "for i in range(n_samples):\n",
        "    plt.subplot(1, n_samples, i+1)\n",
        "    num = random.randint(0, len(X_train))\n",
        "    plt.imshow(X_train[num], cmap='gray', interpolation='none')\n",
        "    plt.title(\"Class {}\".format(y_train[num]))\n",
        "    plt.axis(\"off\")\n",
        "plt.tight_layout()"
      ],
      "metadata": {
        "colab": {
          "base_uri": "https://localhost:8080/",
          "height": 107
        },
        "id": "x0Azv4i171js",
        "outputId": "7df22c47-74f8-462a-e08e-ccd0e539eeae"
      },
      "execution_count": 92,
      "outputs": [
        {
          "output_type": "display_data",
          "data": {
            "text/plain": [
              "<Figure size 720x216 with 10 Axes>"
            ],
            "image/png": "[encoded data removed]"
          },
          "metadata": {
            "needs_background": "light"
          }
        }
      ]
    },
    {
      "cell_type": "markdown",
      "source": [
        "Let us have a closer look to each digit. To present a digit, you can eaither use\n",
        "* Your own function\n",
        "* or `plt.spy()` since most of the bits are zero."
      ],
      "metadata": {
        "id": "wXeP9rGuB83i"
      }
    },
    {
      "cell_type": "code",
      "source": [
        "# just a little function for pretty printing a matrix\n",
        "def matprint(mat, fmt=\"g\"):\n",
        "    col_maxes = [max([len((\"{:\"+fmt+\"}\").format(x)) for x in col]) for col in mat.T]\n",
        "    for x in mat:\n",
        "        for i, y in enumerate(x):\n",
        "            print((\"{:\"+str(col_maxes[i])+fmt+\"}\").format(y), end=\"  \")\n",
        "        print(\"\")\n",
        "\n",
        "# now print random selected digit!        \n",
        "matprint(X_train[num])"
      ],
      "metadata": {
        "colab": {
          "base_uri": "https://localhost:8080/"
        },
        "id": "jSxw5aZW97FF",
        "outputId": "7a80f80c-69a0-4c67-88d3-1f94c6d10eca"
      },
      "execution_count": 93,
      "outputs": [
        {
          "output_type": "stream",
          "name": "stdout",
          "text": [
            "0  0  0  0    0    0    0    0    0    0    0    0    0    0    0    0    0    0    0    0    0    0    0   0  0  0  0  0  \n",
            "0  0  0  0    0    0    0    0    0    0    0    0    0    0    0    0    0    0    0    0    0    0    0   0  0  0  0  0  \n",
            "0  0  0  0    0    0    0    0    0    0    0    0    0    0    0    0    0    0    0    0    0    0    0   0  0  0  0  0  \n",
            "0  0  0  0    0    0    0    0    0    0    0    0    0    0    0    0    0    0    0    0    0    0    0   0  0  0  0  0  \n",
            "0  0  0  0    0    0    0    0    0    0    0    0    0    0    0    0    0    0    0    0    0    0    0   0  0  0  0  0  \n",
            "0  0  0  0    0    0    0    0    0    0    0    0    0    0    0    0    0    0    0    0    0    0    0   0  0  0  0  0  \n",
            "0  0  0  0    0    0    0    0    0    0    0    0    0    0    0    0    0    0    0    0    0    0    0   0  0  0  0  0  \n",
            "0  0  0  0    0    0   16  191  191   78    0    0    0    0    0    0    0    0    0    0    0    0    0   0  0  0  0  0  \n",
            "0  0  0  0    0    0   37  252  252  242  114   73  218   93  176  217  218   93   73   73   42    0    0   0  0  0  0  0  \n",
            "0  0  0  0    0    0  140  252  252  252  252  252  253  252  252  252  253  252  252  252  222  139   11   0  0  0  0  0  \n",
            "0  0  0  0    0   42  221  252  252  252  252  252  253  252  252  252  253  252  252  252  253  252  175  62  0  0  0  0  \n",
            "0  0  0  0    0   73  252  252  143   42  221  252  144  143  143  143    0    0   83    0  144  103   83   0  0  0  0  0  \n",
            "0  0  0  0    0  115  252  252  143    0   25   35    0    0    0    0    0    0    0    0    0    0    0   0  0  0  0  0  \n",
            "0  0  0  0    0  217  252  252  159   37   37   37   37   37   37   37    0    0    0    0    0    0    0   0  0  0  0  0  \n",
            "0  0  0  0  145  237  252  252  252  252  252  252  253  252  252  252  145  104    0    0    0    0    0   0  0  0  0  0  \n",
            "0  0  0  0  192  253  253  253  253  253  253  253  255  253  253  253  255  253  232  109    0    0    0   0  0  0  0  0  \n",
            "0  0  0  0   78  242  252  252  179  179  221  179  180   55   35   35   35  159  231  252  156   10    0   0  0  0  0  0  \n",
            "0  0  0  0    0  103  195   71    0    0   41    0    0    0    0    0    0    0   78  252  253  138    0   0  0  0  0  0  \n",
            "0  0  0  0    0    0    0    0    0    0    0    0    0    0    0    0    0    0   37  252  253  221   41   0  0  0  0  0  \n",
            "0  0  0  0    0    0    0    0    0    0    0    0    0    0    0    0    0    0    0  145  255  253   72   0  0  0  0  0  \n",
            "0  0  0  0    0    0    0    0    0    0    0    0    0    0    0    0    0    0    0  104  253  252   71   0  0  0  0  0  \n",
            "0  0  0  0    0    0    0    0    0    0    0    0    0    0    0    0    0    0    0    0  253  252   71   0  0  0  0  0  \n",
            "0  0  0  0    0    0    0    0    0    0    0    0    0    0    0    0    0    0    0   84  253  252   71   0  0  0  0  0  \n",
            "0  0  0  0    0    0    0    0    0    0    0    0    0    0    0    0    0    0   37  253  255  253   72   0  0  0  0  0  \n",
            "0  0  0  0    0    0    0    0    0    0    0    0    0    0    0    0    0    0   78  252  253  231   51   0  0  0  0  0  \n",
            "0  0  0  0    0    0    0    0    0    0    0    0    0    0    0    0    0  156  232  252  253   76    0   0  0  0  0  0  \n",
            "0  0  0  0    0    0    0    0    0    0    0    0    0    0    0    0   63  237  252  252  191   15    0   0  0  0  0  0  \n",
            "0  0  0  0    0    0    0    0    0    0    0    0    0    0    0    0    0    0    0    0    0    0    0   0  0  0  0  0  \n"
          ]
        }
      ]
    },
    {
      "cell_type": "code",
      "source": [
        "plt.spy(X_train[num]);"
      ],
      "metadata": {
        "colab": {
          "base_uri": "https://localhost:8080/",
          "height": 214
        },
        "id": "LRVLT90p-JlO",
        "outputId": "aa8ec6fa-d6df-46e3-cdaa-7a721d32399d"
      },
      "execution_count": 94,
      "outputs": [
        {
          "output_type": "display_data",
          "data": {
            "text/plain": [
              "<Figure size 720x216 with 1 Axes>"
            ],
            "image/png": "[encoded data removed]"
          },
          "metadata": {
            "needs_background": "light"
          }
        }
      ]
    },
    {
      "cell_type": "markdown",
      "source": [
        "## 3. Preprocessing step\n",
        "* Flat each image shape into column vector.\n",
        "* Normalize each vector (z-score)"
      ],
      "metadata": {
        "id": "dvShzJvjCzGG"
      }
    },
    {
      "cell_type": "code",
      "source": [
        "# Flatten data points i.e., (n, 28, 28) -> (n, 784)\n",
        "X_train = X_train.reshape(60000, 784)\n",
        "X_test = X_test.reshape(10000, 784)\n",
        "\n",
        "# change the integer type into floating point\n",
        "X_train = X_train.astype('float32')\n",
        "X_test = X_test.astype('float32')\n",
        "\n",
        "# normalize each vector (z-score)\n",
        "X_train /= 255\n",
        "X_test /= 255\n",
        "\n",
        "print(\"Training matrix shape\", X_train.shape)\n",
        "print(\"Testing matrix shape\", X_test.shape)"
      ],
      "metadata": {
        "colab": {
          "base_uri": "https://localhost:8080/"
        },
        "id": "Zc-hOTqd-Lfe",
        "outputId": "c78110c3-0ead-496d-b9a0-2414d192cfba"
      },
      "execution_count": 95,
      "outputs": [
        {
          "output_type": "stream",
          "name": "stdout",
          "text": [
            "Training matrix shape (60000, 784)\n",
            "Testing matrix shape (10000, 784)\n"
          ]
        }
      ]
    },
    {
      "cell_type": "markdown",
      "source": [
        "* Convert label to one-hot vector"
      ],
      "metadata": {
        "id": "GUL2x1KRE7MA"
      }
    },
    {
      "cell_type": "code",
      "source": [
        "n_classes = 10 # number of unique digits\n",
        "\n",
        "Y_train = np_utils.to_categorical(y_train, n_classes)\n",
        "Y_test = np_utils.to_categorical(y_test, n_classes)"
      ],
      "metadata": {
        "id": "gIO9ckGGD3Ja"
      },
      "execution_count": 96,
      "outputs": []
    },
    {
      "cell_type": "markdown",
      "source": [
        "## 4. Building a Feed Forward Model\n",
        "\n",
        "Build the model by stacking layers together.\n",
        "1. specifying each layer's input/output,\n",
        "2. activation function,\n",
        "3. add regularization.\n",
        "\n",
        "The architecture of the model is:\n",
        "* Two hidden layer (e.g. 512, 256 nodes)\n",
        "* One class layer of 10 nodes\n",
        "* Connection weights are dense\n",
        "\n",
        "At the end, we can check our model by getting the `model.summary()`"
      ],
      "metadata": {
        "id": "Mp9r5Yu4CyZO"
      }
    },
    {
      "cell_type": "code",
      "source": [
        "# The Sequential model: stack of layers\n",
        "# activation function of each hidden layer is ReLU\n",
        "# add dropout to avoid overfitting. 0.2 means 20% of nodes will be disabled\n",
        "model = Sequential()\n",
        "\n",
        "# First hidden layer\n",
        "model.add(Dense(512, input_shape=(784,)))\n",
        "model.add(Activation('relu'))\n",
        "model.add(Dropout(0.2))\n",
        "\n",
        "# Second hidden layer\n",
        "model.add(Dense(128))\n",
        "model.add(Activation('relu'))\n",
        "model.add(Dropout(0.2))\n",
        "\n",
        "# The last layer\n",
        "model.add(Dense(10))\n",
        "model.add(Activation('softmax'))\n",
        "\n",
        "# Summary\n",
        "model.summary()"
      ],
      "metadata": {
        "colab": {
          "base_uri": "https://localhost:8080/"
        },
        "id": "gnPY8rF0GCGU",
        "outputId": "d1c06937-2c89-448d-ebcf-2de1e7b922b9"
      },
      "execution_count": 97,
      "outputs": [
        {
          "output_type": "stream",
          "name": "stdout",
          "text": [
            "Model: \"sequential_4\"\n",
            "_________________________________________________________________\n",
            " Layer (type)                Output Shape              Param #   \n",
            "=================================================================\n",
            " dense_12 (Dense)            (None, 512)               401920    \n",
            "                                                                 \n",
            " activation_12 (Activation)  (None, 512)               0         \n",
            "                                                                 \n",
            " dropout_8 (Dropout)         (None, 512)               0         \n",
            "                                                                 \n",
            " dense_13 (Dense)            (None, 128)               65664     \n",
            "                                                                 \n",
            " activation_13 (Activation)  (None, 128)               0         \n",
            "                                                                 \n",
            " dropout_9 (Dropout)         (None, 128)               0         \n",
            "                                                                 \n",
            " dense_14 (Dense)            (None, 10)                1290      \n",
            "                                                                 \n",
            " activation_14 (Activation)  (None, 10)                0         \n",
            "                                                                 \n",
            "=================================================================\n",
            "Total params: 468,874\n",
            "Trainable params: 468,874\n",
            "Non-trainable params: 0\n",
            "_________________________________________________________________\n"
          ]
        }
      ]
    },
    {
      "cell_type": "markdown",
      "source": [
        "## 5. Training Time\n",
        "In this phase, we should determine our optimzation objective, method, and metric then try to find solve it i.e., fit the data.\n",
        "\n",
        "For this purpose we need to know:\n",
        "\n",
        "* The loss function\n",
        "* Optimizer\n",
        "* Metric\n",
        "\n",
        "On the training time we can change:\n",
        "* Batch size\n",
        "* Number of Epochs"
      ],
      "metadata": {
        "id": "QTQPmNkuIzPo"
      }
    },
    {
      "cell_type": "code",
      "source": [
        "# determine optimization parameter\n",
        "model.compile(loss='categorical_crossentropy', optimizer='adam', metrics=['accuracy'])\n",
        "\n",
        "# fit the model for the training data\n",
        "model.fit(X_train, Y_train,\n",
        "          batch_size=128, epochs=5,\n",
        "          verbose=1)"
      ],
      "metadata": {
        "colab": {
          "base_uri": "https://localhost:8080/"
        },
        "id": "44rCPeClIzfB",
        "outputId": "46d84643-7602-49cc-df68-49b07fd5b976"
      },
      "execution_count": 98,
      "outputs": [
        {
          "output_type": "stream",
          "name": "stdout",
          "text": [
            "Epoch 1/5\n",
            "469/469 [==============================] - 6s 11ms/step - loss: 0.2946 - accuracy: 0.9116\n",
            "Epoch 2/5\n",
            "469/469 [==============================] - 5s 11ms/step - loss: 0.1183 - accuracy: 0.9641\n",
            "Epoch 3/5\n",
            "469/469 [==============================] - 5s 11ms/step - loss: 0.0841 - accuracy: 0.9736\n",
            "Epoch 4/5\n",
            "469/469 [==============================] - 5s 11ms/step - loss: 0.0638 - accuracy: 0.9801\n",
            "Epoch 5/5\n",
            "469/469 [==============================] - 5s 11ms/step - loss: 0.0511 - accuracy: 0.9833\n"
          ]
        },
        {
          "output_type": "execute_result",
          "data": {
            "text/plain": [
              "<keras.callbacks.History at 0x7f84581f3410>"
            ]
          },
          "metadata": {},
          "execution_count": 98
        }
      ]
    },
    {
      "cell_type": "markdown",
      "source": [
        "## 6. Evaluate the Model against the Test data"
      ],
      "metadata": {
        "id": "SvVehtanMSXF"
      }
    },
    {
      "cell_type": "code",
      "source": [
        "# Evaluate the model\n",
        "score = model.evaluate(X_test, Y_test)\n",
        "print('Test score:', score[0])\n",
        "print('Test accuracy:', score[1])"
      ],
      "metadata": {
        "colab": {
          "base_uri": "https://localhost:8080/"
        },
        "id": "XHXirk3YMRR2",
        "outputId": "7b949807-fc16-46e0-8790-cf7e27ec988f"
      },
      "execution_count": 99,
      "outputs": [
        {
          "output_type": "stream",
          "name": "stdout",
          "text": [
            "313/313 [==============================] - 1s 3ms/step - loss: 0.0660 - accuracy: 0.9791\n",
            "Test score: 0.06601449847221375\n",
            "Test accuracy: 0.9790999889373779\n"
          ]
        }
      ]
    },
    {
      "cell_type": "markdown",
      "source": [
        "## 7. Investigate Output\n",
        "We can inspect the output by looking rigth and wrong outputs to get some insight."
      ],
      "metadata": {
        "id": "2OZSYxPLO9qf"
      }
    },
    {
      "cell_type": "code",
      "source": [
        "# predict lable for test cases\n",
        "predicted = model.predict(X_test) \n",
        "predicted_classes = np.argmax(predicted,axis=1)\n",
        "\n",
        "# Find out right/wrong indices (TP, FP)\n",
        "correct_indices = np.nonzero(predicted_classes == y_test)[0]\n",
        "\n",
        "incorrect_indices = np.nonzero(predicted_classes != y_test)[0]"
      ],
      "metadata": {
        "id": "Nzzh2ITcPSrB"
      },
      "execution_count": 100,
      "outputs": []
    },
    {
      "cell_type": "code",
      "source": [
        "plt.figure()\n",
        "for i, correct in enumerate(correct_indices[:9]):\n",
        "    plt.subplot(3, 3, i + 1)\n",
        "    plt.imshow(X_test[correct].reshape(28,28), cmap='gray', interpolation='none')\n",
        "    plt.title(\"Predicted {}, Class {}\".format(predicted_classes[correct], y_test[correct]))\n",
        "    plt.axis(\"off\")\n",
        "plt.tight_layout()\n",
        "    \n",
        "plt.figure()\n",
        "for i, incorrect in enumerate(incorrect_indices[:9]):\n",
        "    plt.subplot(3, 3, i + 1)\n",
        "    plt.imshow(X_test[incorrect].reshape(28,28), cmap='gray', interpolation='none')\n",
        "    plt.title(\"Predicted {}, Class {}\".format(predicted_classes[incorrect], y_test[incorrect]))\n",
        "    plt.axis(\"off\")\n",
        "plt.tight_layout()"
      ],
      "metadata": {
        "colab": {
          "base_uri": "https://localhost:8080/",
          "height": 433
        },
        "id": "1LhcqX1tQOj0",
        "outputId": "ebc534ee-5b1b-479a-8c50-b844c6867a52"
      },
      "execution_count": 101,
      "outputs": [
        {
          "output_type": "display_data",
          "data": {
            "text/plain": [
              "<Figure size 720x216 with 9 Axes>"
            ],
            "image/png": "[encoded data removed]"
          },
          "metadata": {
            "needs_background": "light"
          }
        },
        {
          "output_type": "display_data",
          "data": {
            "text/plain": [
              "<Figure size 720x216 with 9 Axes>"
            ],
            "image/png": "[encoded data removed]"
          },
          "metadata": {
            "needs_background": "light"
          }
        }
      ]
    },
    {
      "cell_type": "markdown",
      "source": [
        "## 8. Final Notes\n",
        "\n",
        "As you can see, playing with number of layers, number of neurons in each hidden layer changes the accuracy. However, there is a tradeoff between the number of parameters and the acheived accuracy.\n",
        "\n",
        "It is better to have a spread sheet when you change parameters like\n",
        "* number of hidden layer\n",
        "* number of neurons in each layer\n",
        "* optimizer\n",
        "* regularization - drop out - %\n",
        "* batch size\n",
        "* number of epoch\n",
        "\n",
        "\n",
        "***The end.***"
      ],
      "metadata": {
        "id": "KfE9LmOrVjzR"
      }
    }
  ]
}