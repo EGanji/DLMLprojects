{
  "nbformat": 4,
  "nbformat_minor": 0,
  "metadata": {
    "colab": {
      "name": "MNIST via Deep Learning.ipynb",
      "provenance": [],
      "collapsed_sections": [
        "KwA8fZt03EU8",
        "_aauSi796WPO",
        "fTcZzIVg9SEr",
        "dvShzJvjCzGG"
      ],
      "toc_visible": true,
      "authorship_tag": "ABX9TyONKRotKaScofGaVorDAXDp",
      "include_colab_link": true
    },
    "kernelspec": {
      "name": "python3",
      "display_name": "Python 3"
    },
    "language_info": {
      "name": "python"
    }
  },
  "cells": [
    {
      "cell_type": "markdown",
      "metadata": {
        "id": "view-in-github",
        "colab_type": "text"
      },
      "source": [
        "<a href=\"https://colab.research.google.com/github/EGanji/DLML/blob/main/MNIST_via_Deep_Learning.ipynb\" target=\"_parent\"><img src=\"https://colab.research.google.com/assets/colab-badge.svg\" alt=\"Open In Colab\"/></a>"
      ]
    },
    {
      "cell_type": "markdown",
      "source": [
        "# Digit Recognition through FeedForward Model\n",
        "* Goal: Build a network and train it to recognize handwritten digits.\n",
        "* Data set: MNIST\n",
        "* Metric: Accuracy\n",
        "\n",
        "#### Outline:\n",
        "0. Install/import required libraries.\n",
        "1. Loading data -> train and test set\n",
        "2. Visualize data, get familiar with data\n",
        "3. Preprocessing -> \n",
        "  * Normalizing data\n",
        "  * Convert Labels into one-hot vectors.\n",
        "4. Building the Model\n",
        "5. Train the Model\n",
        "6. Evaluate the Model's Accuracy\n",
        "7. Inspection output"
      ],
      "metadata": {
        "id": "hCEvioEd1nUj"
      }
    },
    {
      "cell_type": "markdown",
      "source": [
        "### 0. Install/import required libraries"
      ],
      "metadata": {
        "id": "KwA8fZt03EU8"
      }
    },
    {
      "cell_type": "code",
      "execution_count": null,
      "metadata": {
        "id": "Rkpx4o-VVHk5"
      },
      "outputs": [],
      "source": [
        "import numpy as np                   # numerical library for matrix, vector, ...\n",
        "import matplotlib.pyplot as plt      # for plotting and visualizing purpose\n",
        "import random                        # for generating random numbers\n",
        "\n",
        "from keras.datasets import mnist     # MNIST dataset is included in Keras\n",
        "from keras.models import Sequential  # Model type to be used\n",
        "\n",
        "from keras.layers.core import Dense, Dropout, Activation # Types of layers to be used in our model\n",
        "from keras.utils import np_utils                         # NumPy related tools"
      ]
    },
    {
      "cell_type": "markdown",
      "source": [
        "### 1. Loading Dataset\n",
        "The MNIST is a set of (28, 28) digit's image for training and testing purpose.\n",
        "* The dimension of each image is (28, 28).\n",
        "* The number of training data is 60,000.\n",
        "* The number of test data is 10,000."
      ],
      "metadata": {
        "id": "_aauSi796WPO"
      }
    },
    {
      "cell_type": "code",
      "source": [
        "# MNIST is 60k, 10K train and test images with size (28, 28)\n",
        "(X_train, y_train), (X_test, y_test) = mnist.load_data()\n",
        "\n",
        "print(\"X_train shape\", X_train.shape)\n",
        "print(\"y_train shape\", y_train.shape)\n",
        "print(\"X_test shape\", X_test.shape)\n",
        "print(\"y_test shape\", y_test.shape)"
      ],
      "metadata": {
        "colab": {
          "base_uri": "https://localhost:8080/"
        },
        "id": "AS9XwlAo511j",
        "outputId": "b2b59705-4e09-4cd2-f7fe-b734908e06f2"
      },
      "execution_count": null,
      "outputs": [
        {
          "output_type": "stream",
          "name": "stdout",
          "text": [
            "X_train shape (60000, 28, 28)\n",
            "y_train shape (60000,)\n",
            "X_test shape (10000, 28, 28)\n",
            "y_test shape (10000,)\n"
          ]
        }
      ]
    },
    {
      "cell_type": "markdown",
      "source": [
        "### 2. Visualize data, get familiar with data\n",
        "* plot some random number of digits from training set.\n",
        "* label each subplot with the corresponding label."
      ],
      "metadata": {
        "id": "fTcZzIVg9SEr"
      }
    },
    {
      "cell_type": "code",
      "source": [
        "n_samples = 10\n",
        "plt.rcParams['figure.figsize'] = (n_samples,3) # Make the figures a bit bigger\n",
        "\n",
        "for i in range(n_samples):\n",
        "    plt.subplot(1, n_samples, i+1)\n",
        "    num = random.randint(0, len(X_train))\n",
        "    plt.imshow(X_train[num], cmap='gray', interpolation='none')\n",
        "    plt.title(\"Class {}\".format(y_train[num]))\n",
        "    plt.axis(\"off\")\n",
        "plt.tight_layout()"
      ],
      "metadata": {
        "colab": {
          "base_uri": "https://localhost:8080/",
          "height": 107
        },
        "id": "x0Azv4i171js",
        "outputId": "72dcaaff-34a8-424b-a2a0-9fe8a5a936fe"
      },
      "execution_count": null,
      "outputs": [
        {
          "output_type": "display_data",
          "data": {
            "text/plain": [
              "<Figure size 720x216 with 10 Axes>"
            ],
            "image/png": "[encoded data removed]"
          },
          "metadata": {
            "needs_background": "light"
          }
        }
      ]
    },
    {
      "cell_type": "markdown",
      "source": [
        "Let us have a closer look to each digit. To present a digit, you can eaither use\n",
        "* Your own function\n",
        "* or `plt.spy()` since most of the bits are zero."
      ],
      "metadata": {
        "id": "wXeP9rGuB83i"
      }
    },
    {
      "cell_type": "code",
      "source": [
        "# just a little function for pretty printing a matrix\n",
        "def matprint(mat, fmt=\"g\"):\n",
        "    col_maxes = [max([len((\"{:\"+fmt+\"}\").format(x)) for x in col]) for col in mat.T]\n",
        "    for x in mat:\n",
        "        for i, y in enumerate(x):\n",
        "            print((\"{:\"+str(col_maxes[i])+fmt+\"}\").format(y), end=\"  \")\n",
        "        print(\"\")\n",
        "\n",
        "# now print!        \n",
        "matprint(X_train[num])"
      ],
      "metadata": {
        "colab": {
          "base_uri": "https://localhost:8080/"
        },
        "id": "jSxw5aZW97FF",
        "outputId": "5b9ad6ad-be18-4b1f-e82b-99fc87824f35"
      },
      "execution_count": null,
      "outputs": [
        {
          "output_type": "stream",
          "name": "stdout",
          "text": [
            "0  0  0  0  0  0   0    0    0    0    0    0    0    0    0    0    0    0    0    0    0    0    0    0    0  0  0  0  \n",
            "0  0  0  0  0  0   0    0    0    0    0    0    0    0    0    0    0    0    0    0    0    0    0    0    0  0  0  0  \n",
            "0  0  0  0  0  0   0    0    0    0    0    0    0    0    0    0    0    0    0    0    0    0    0    0    0  0  0  0  \n",
            "0  0  0  0  0  0   0    0    0    0    0    0    0    0    0    0    0    0    0    0    0    0    0    0    0  0  0  0  \n",
            "0  0  0  0  0  0   0    0    0    0    0    0    0    0    0    0    0    0    0    0    0    0    0    0    0  0  0  0  \n",
            "0  0  0  0  0  0   0    0    0    0    0    0    0    0    0    0    0    0    0    0    0    0    0    0    0  0  0  0  \n",
            "0  0  0  0  0  0   0    0    0    0    0    0    0    0    0    0    0    0    0    0   72  253  163    0    0  0  0  0  \n",
            "0  0  0  0  0  0   0    0    0    0    0    0    0    0    0    0    0   41  163  203  233  252  162    0    0  0  0  0  \n",
            "0  0  0  0  0  0   0    0    0    0    0    0    0    0    0   41  132  253  254  253  254  233   41    0    0  0  0  0  \n",
            "0  0  0  0  0  0   0    0    0    0    0    0    0    0  163  243  253  252  253  252  253   70    0    0    0  0  0  0  \n",
            "0  0  0  0  0  0   0    0    0    0    0   21  113  193  254  253  152  233  254  253  244   40    0    0    0  0  0  0  \n",
            "0  0  0  0  0  0   0    0    0    0   62  203  253  252  151   70  173  252  233  111   81    0    0   41    0  0  0  0  \n",
            "0  0  0  0  0  0   0    0   11  132  254  253  203   61   11  173  254  253  123   21  113  152  254  213  163  0  0  0  \n",
            "0  0  0  0  0  0   0    0  173  252  253  130   20    0  173  252  253  252  203  223  253  171   91   10    0  0  0  0  \n",
            "0  0  0  0  0  0  11  173  254  253  132   51   72  193  254  253  254  253  224  162   41    0    0    0    0  0  0  0  \n",
            "0  0  0  0  0  0  51  252  253  252  253  252  253  252  253  252  192  111   20    0    0    0    0    0    0  0  0  0  \n",
            "0  0  0  0  0  0   0  123  203  243  224  223  254  253  254  253   41    0    0    0    0    0    0    0    0  0  0  0  \n",
            "0  0  0  0  0  0   0    0    0   40   20  102  253  252  253  130    0    0    0    0    0    0    0    0    0  0  0  0  \n",
            "0  0  0  0  0  0   0    0    0    0    0  123  254  253  244   40    0    0    0    0    0    0    0    0    0  0  0  0  \n",
            "0  0  0  0  0  0   0    0    0    0   21  223  253  252  162    0    0    0    0    0    0    0    0    0    0  0  0  0  \n",
            "0  0  0  0  0  0   0    0    0    0  152  253  254  233    0    0    0    0    0    0    0    0    0    0    0  0  0  0  \n",
            "0  0  0  0  0  0   0    0    0    0  152  252  253  111    0    0    0    0    0    0    0    0    0    0    0  0  0  0  \n",
            "0  0  0  0  0  0   0    0    0    0  255  253  183    0    0    0    0    0    0    0    0    0    0    0    0  0  0  0  \n",
            "0  0  0  0  0  0   0    0    0   82  253  252   61    0    0    0    0    0    0    0    0    0    0    0    0  0  0  0  \n",
            "0  0  0  0  0  0   0    0    0  203  255  151    0    0    0    0    0    0    0    0    0    0    0    0    0  0  0  0  \n",
            "0  0  0  0  0  0   0    0    0  122  253  111    0    0    0    0    0    0    0    0    0    0    0    0    0  0  0  0  \n",
            "0  0  0  0  0  0   0    0    0    0    0    0    0    0    0    0    0    0    0    0    0    0    0    0    0  0  0  0  \n",
            "0  0  0  0  0  0   0    0    0    0    0    0    0    0    0    0    0    0    0    0    0    0    0    0    0  0  0  0  \n"
          ]
        }
      ]
    },
    {
      "cell_type": "code",
      "source": [
        "plt.spy(X_train[num])"
      ],
      "metadata": {
        "colab": {
          "base_uri": "https://localhost:8080/",
          "height": 231
        },
        "id": "LRVLT90p-JlO",
        "outputId": "177ff953-4cb3-4d2a-9afb-042a5576657d"
      },
      "execution_count": null,
      "outputs": [
        {
          "output_type": "execute_result",
          "data": {
            "text/plain": [
              "<matplotlib.image.AxesImage at 0x7f8458954450>"
            ]
          },
          "metadata": {},
          "execution_count": 44
        },
        {
          "output_type": "display_data",
          "data": {
            "text/plain": [
              "<Figure size 720x216 with 1 Axes>"
            ],
            "image/png": "[encoded data removed]"
          },
          "metadata": {
            "needs_background": "light"
          }
        }
      ]
    },
    {
      "cell_type": "markdown",
      "source": [
        "## 3. Preprocessing step\n",
        "* Flat each image shape into column vector.\n",
        "* Normalize each vector (z-score)"
      ],
      "metadata": {
        "id": "dvShzJvjCzGG"
      }
    },
    {
      "cell_type": "code",
      "source": [
        "# Flatten data points i.e., (n, 28, 28) -> (n, 784)\n",
        "X_train = X_train.reshape(60000, 784)\n",
        "X_test = X_test.reshape(10000, 784)\n",
        "\n",
        "# change the integer type into floating point\n",
        "X_train = X_train.astype('float32')\n",
        "X_test = X_test.astype('float32')\n",
        "\n",
        "# normalize each vector (z-score)\n",
        "X_train /= 255\n",
        "X_test /= 255\n",
        "\n",
        "print(\"Training matrix shape\", X_train.shape)\n",
        "print(\"Testing matrix shape\", X_test.shape)"
      ],
      "metadata": {
        "colab": {
          "base_uri": "https://localhost:8080/"
        },
        "id": "Zc-hOTqd-Lfe",
        "outputId": "701a477e-42a5-4f7b-86f3-2b42c3bdb886"
      },
      "execution_count": null,
      "outputs": [
        {
          "output_type": "stream",
          "name": "stdout",
          "text": [
            "Training matrix shape (60000, 784)\n",
            "Testing matrix shape (10000, 784)\n"
          ]
        }
      ]
    },
    {
      "cell_type": "markdown",
      "source": [
        "* Convert label to one-hot vector"
      ],
      "metadata": {
        "id": "GUL2x1KRE7MA"
      }
    },
    {
      "cell_type": "code",
      "source": [
        "n_classes = 10 # number of unique digits\n",
        "\n",
        "Y_train = np_utils.to_categorical(y_train, n_classes)\n",
        "Y_test = np_utils.to_categorical(y_test, n_classes)"
      ],
      "metadata": {
        "id": "gIO9ckGGD3Ja"
      },
      "execution_count": null,
      "outputs": []
    },
    {
      "cell_type": "markdown",
      "source": [
        "## 4. Building a Feed Forward Model\n",
        "\n",
        "Build the model by stacking layers together.\n",
        "1. specifying each layer's input/output,\n",
        "2. activation function,\n",
        "3. add regularization.\n",
        "\n",
        "The architecture of the model is:\n",
        "* Two hidden layer (e.g. 512, 256 nodes)\n",
        "* One class layer of 10 nodes\n",
        "* Connection weights are dense\n",
        "\n",
        "At the end, we can check our model by getting the `model.summary()`"
      ],
      "metadata": {
        "id": "Mp9r5Yu4CyZO"
      }
    },
    {
      "cell_type": "code",
      "source": [
        "# The Sequential model: stack of layers\n",
        "# activation function of each hidden layer is ReLU\n",
        "# add dropout to avoid overfitting. 0.2 means 20% of nodes will be disabled\n",
        "model = Sequential()\n",
        "\n",
        "# First hidden layer\n",
        "model.add(Dense(512, input_shape=(784,)))\n",
        "model.add(Activation('relu'))\n",
        "model.add(Dropout(0.2))\n",
        "\n",
        "# Second hidden layer\n",
        "model.add(Dense(128))\n",
        "model.add(Activation('relu'))\n",
        "model.add(Dropout(0.2))\n",
        "\n",
        "# The last layer\n",
        "model.add(Dense(10))\n",
        "model.add(Activation('softmax'))\n",
        "\n",
        "# Summary\n",
        "model.summary()"
      ],
      "metadata": {
        "colab": {
          "base_uri": "https://localhost:8080/"
        },
        "id": "gnPY8rF0GCGU",
        "outputId": "590693b3-834f-4a23-dc3b-0ade3982b43e"
      },
      "execution_count": 81,
      "outputs": [
        {
          "output_type": "stream",
          "name": "stdout",
          "text": [
            "Model: \"sequential_3\"\n",
            "_________________________________________________________________\n",
            " Layer (type)                Output Shape              Param #   \n",
            "=================================================================\n",
            " dense_9 (Dense)             (None, 512)               401920    \n",
            "                                                                 \n",
            " activation_9 (Activation)   (None, 512)               0         \n",
            "                                                                 \n",
            " dropout_6 (Dropout)         (None, 512)               0         \n",
            "                                                                 \n",
            " dense_10 (Dense)            (None, 128)               65664     \n",
            "                                                                 \n",
            " activation_10 (Activation)  (None, 128)               0         \n",
            "                                                                 \n",
            " dropout_7 (Dropout)         (None, 128)               0         \n",
            "                                                                 \n",
            " dense_11 (Dense)            (None, 10)                1290      \n",
            "                                                                 \n",
            " activation_11 (Activation)  (None, 10)                0         \n",
            "                                                                 \n",
            "=================================================================\n",
            "Total params: 468,874\n",
            "Trainable params: 468,874\n",
            "Non-trainable params: 0\n",
            "_________________________________________________________________\n"
          ]
        }
      ]
    },
    {
      "cell_type": "markdown",
      "source": [
        "## 5. Training Time\n",
        "In this phase, we should determine our optimzation objective, method, and metric then try to find solve it i.e., fit the data.\n",
        "\n",
        "For this purpose we need to know:\n",
        "\n",
        "* The loss function\n",
        "* Optimizer\n",
        "* Metric\n",
        "\n",
        "On the training time we can change:\n",
        "* Batch size\n",
        "* Number of Epochs"
      ],
      "metadata": {
        "id": "QTQPmNkuIzPo"
      }
    },
    {
      "cell_type": "code",
      "source": [
        "# determine optimization parameter\n",
        "model.compile(loss='categorical_crossentropy', optimizer='adam', metrics=['accuracy'])\n",
        "\n",
        "# fit the model for the training data\n",
        "model.fit(X_train, Y_train,\n",
        "          batch_size=128, epochs=5,\n",
        "          verbose=1)"
      ],
      "metadata": {
        "colab": {
          "base_uri": "https://localhost:8080/"
        },
        "id": "44rCPeClIzfB",
        "outputId": "c70b6580-85fb-4685-9a47-34fb90928b5c"
      },
      "execution_count": 82,
      "outputs": [
        {
          "output_type": "stream",
          "name": "stdout",
          "text": [
            "Epoch 1/5\n",
            "469/469 [==============================] - 6s 11ms/step - loss: 0.2875 - accuracy: 0.9128\n",
            "Epoch 2/5\n",
            "469/469 [==============================] - 5s 11ms/step - loss: 0.1147 - accuracy: 0.9652\n",
            "Epoch 3/5\n",
            "469/469 [==============================] - 5s 11ms/step - loss: 0.0830 - accuracy: 0.9747\n",
            "Epoch 4/5\n",
            "469/469 [==============================] - 8s 17ms/step - loss: 0.0625 - accuracy: 0.9805\n",
            "Epoch 5/5\n",
            "469/469 [==============================] - 9s 19ms/step - loss: 0.0531 - accuracy: 0.9830\n"
          ]
        },
        {
          "output_type": "execute_result",
          "data": {
            "text/plain": [
              "<keras.callbacks.History at 0x7f8458b39510>"
            ]
          },
          "metadata": {},
          "execution_count": 82
        }
      ]
    },
    {
      "cell_type": "markdown",
      "source": [
        "## 6. Evaluate the Model against the Test data"
      ],
      "metadata": {
        "id": "SvVehtanMSXF"
      }
    },
    {
      "cell_type": "code",
      "source": [
        "# Evaluate the model\n",
        "score = model.evaluate(X_test, Y_test)\n",
        "print('Test score:', score[0])\n",
        "print('Test accuracy:', score[1])"
      ],
      "metadata": {
        "colab": {
          "base_uri": "https://localhost:8080/"
        },
        "id": "XHXirk3YMRR2",
        "outputId": "92a909ba-bbb1-4549-988c-62adaf48fd72"
      },
      "execution_count": 83,
      "outputs": [
        {
          "output_type": "stream",
          "name": "stdout",
          "text": [
            "313/313 [==============================] - 1s 3ms/step - loss: 0.0654 - accuracy: 0.9790\n",
            "Test score: 0.06538602709770203\n",
            "Test accuracy: 0.9789999723434448\n"
          ]
        }
      ]
    },
    {
      "cell_type": "markdown",
      "source": [
        "## 7. Investigate Output\n",
        "We can inspect the output by looking rigth and wrong outputs to get some insight."
      ],
      "metadata": {
        "id": "2OZSYxPLO9qf"
      }
    },
    {
      "cell_type": "code",
      "source": [
        "# predict lable for test cases\n",
        "predicted = model.predict(X_test) \n",
        "predicted_classes = np.argmax(predicted,axis=1)\n",
        "\n",
        "# Find out right/wrong indices (TP, FP)\n",
        "correct_indices = np.nonzero(predicted_classes == y_test)[0]\n",
        "\n",
        "incorrect_indices = np.nonzero(predicted_classes != y_test)[0]"
      ],
      "metadata": {
        "id": "Nzzh2ITcPSrB"
      },
      "execution_count": 84,
      "outputs": []
    },
    {
      "cell_type": "code",
      "source": [
        "plt.figure()\n",
        "for i, correct in enumerate(correct_indices[:9]):\n",
        "    plt.subplot(3, 3, i + 1)\n",
        "    plt.imshow(X_test[correct].reshape(28,28), cmap='gray', interpolation='none')\n",
        "    plt.title(\"Predicted {}, Class {}\".format(predicted_classes[correct], y_test[correct]))\n",
        "    plt.axis(\"off\")\n",
        "plt.tight_layout()\n",
        "    \n",
        "plt.figure()\n",
        "for i, incorrect in enumerate(incorrect_indices[:9]):\n",
        "    plt.subplot(3, 3, i + 1)\n",
        "    plt.imshow(X_test[incorrect].reshape(28,28), cmap='gray', interpolation='none')\n",
        "    plt.title(\"Predicted {}, Class {}\".format(predicted_classes[incorrect], y_test[incorrect]))\n",
        "    plt.axis(\"off\")\n",
        "plt.tight_layout()"
      ],
      "metadata": {
        "colab": {
          "base_uri": "https://localhost:8080/",
          "height": 433
        },
        "id": "1LhcqX1tQOj0",
        "outputId": "68229a18-0b8d-409e-d0c0-2654474a86f4"
      },
      "execution_count": 85,
      "outputs": [
        {
          "output_type": "display_data",
          "data": {
            "text/plain": [
              "<Figure size 720x216 with 9 Axes>"
            ],
            "image/png": "[encoded data removed]"
          },
          "metadata": {
            "needs_background": "light"
          }
        },
        {
          "output_type": "display_data",
          "data": {
            "text/plain": [
              "<Figure size 720x216 with 9 Axes>"
            ],
            "image/png": "[encoded data removed]"
          },
          "metadata": {
            "needs_background": "light"
          }
        }
      ]
    },
    {
      "cell_type": "markdown",
      "source": [
        "As you can see, playing with number of layers, number of neurons in each hidden layer changes the accuracy. However, there is a tradeoff between the number of parameters and the acheived accuracy.\n",
        "\n",
        "It is better to have a spread sheet when you change parameters like\n",
        "* number of hidden layer\n",
        "* number of neurons in each layer\n",
        "* optimizer\n",
        "* regularization - drop out - %\n",
        "* batch size\n",
        "* number of epoch"
      ],
      "metadata": {
        "id": "KfE9LmOrVjzR"
      }
    },
    {
      "cell_type": "markdown",
      "source": [
        "### The end."
      ],
      "metadata": {
        "id": "2Ij4FlZiWaOU"
      }
    }
  ]
}